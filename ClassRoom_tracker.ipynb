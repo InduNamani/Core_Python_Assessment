{
 "cells": [
  {
   "cell_type": "code",
   "execution_count": 1,
   "id": "a41a5643",
   "metadata": {},
   "outputs": [
    {
     "name": "stdout",
     "output_type": "stream",
     "text": [
      "\n",
      "Student List: [Student(name='indu', marks=[87, 89, 90, 79], average=86.25), Student(name='vignesh', marks=[80, 89, 90, 78], average=84.25)]\n",
      "\n",
      "Average Marks: {'indu': 86.25, 'vignesh': 84.25}\n",
      "Top Performer: indu\n"
     ]
    }
   ],
   "source": [
    "class Student:\n",
    "    def __init__(self, name, marks):\n",
    "        self.name = name\n",
    "        self.marks = marks\n",
    "\n",
    "    def average(self):\n",
    "        return round(sum(self.marks) / len(self.marks), 2)\n",
    "\n",
    "    def __repr__(self):\n",
    "        # This makes printing Student objects readable\n",
    "        return f\"Student(name='{self.name}', marks={self.marks}, average={self.average()})\"\n",
    "\n",
    "\n",
    "def calculate_averages(students):\n",
    "    averages = {}\n",
    "    for student in students:\n",
    "        averages[student.name] = student.average()\n",
    "    return averages\n",
    "\n",
    "\n",
    "def find_top_performer(averages):\n",
    "    return max(averages, key=averages.get)\n",
    "\n",
    "\n",
    "# --- Main Program ---\n",
    "students = []\n",
    "n = int(input(\"Enter number of students: \"))\n",
    "\n",
    "for i in range(n):\n",
    "    name = input(f\"Enter name of student {i + 1}: \")\n",
    "    marks_input = input(f\"Enter marks separated by spaces for {name}: \")\n",
    "    marks = list(map(int, marks_input.strip().split()))\n",
    "    students.append(Student(name, marks))\n",
    "\n",
    "# Display list of students\n",
    "print(\"\\nStudent List:\", students)\n",
    "\n",
    "# Calculate averages\n",
    "averages = calculate_averages(students)\n",
    "top_student = find_top_performer(averages)\n",
    "\n",
    "print(\"\\nAverage Marks:\", averages)\n",
    "print(\"Top Performer:\", top_student)\n"
   ]
  }
 ],
 "metadata": {
  "kernelspec": {
   "display_name": "Python 3",
   "language": "python",
   "name": "python3"
  },
  "language_info": {
   "codemirror_mode": {
    "name": "ipython",
    "version": 3
   },
   "file_extension": ".py",
   "mimetype": "text/x-python",
   "name": "python",
   "nbconvert_exporter": "python",
   "pygments_lexer": "ipython3",
   "version": "3.11.0"
  }
 },
 "nbformat": 4,
 "nbformat_minor": 5
}
