class Student:
    def __init__(self, name, marks):
        self.name = name
        self.marks = marks

    def average(self):
        return round(sum(self.marks) / len(self.marks), 2)

    def __repr__(self):
        # This makes printing Student objects readable
        return f"Student(name='{self.name}', marks={self.marks}, average={self.average()})"


def calculate_averages(students):
    averages = {}
    for student in students:
        averages[student.name] = student.average()
    return averages


def find_top_performer(averages):
    return max(averages, key=averages.get)


# --- Main Program ---
students = []
n = int(input("Enter number of students: "))

for i in range(n):
    name = input(f"Enter name of student {i + 1}: ")
    marks_input = input(f"Enter marks separated by spaces for {name}: ")
    marks = list(map(int, marks_input.strip().split()))
    students.append(Student(name, marks))

# Display list of students
print("\nStudent List:", students)

# Calculate averages
averages = calculate_averages(students)
top_student = find_top_performer(averages)

print("\nAverage Marks:", averages)
print("Top Performer:", top_student)
