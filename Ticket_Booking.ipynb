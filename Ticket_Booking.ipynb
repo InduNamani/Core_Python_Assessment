{
 "cells": [
  {
   "cell_type": "code",
   "execution_count": 1,
   "id": "bf1a766f",
   "metadata": {},
   "outputs": [
    {
     "name": "stdout",
     "output_type": "stream",
     "text": [
      "Seat 1 has been booked.\n",
      "Seat 3 booking has been cancelled.\n",
      "Available seats: [3, 4]\n"
     ]
    }
   ],
   "source": [
    "def book_seat(booked_seats, seat):\n",
    "    if seat in booked_seats:\n",
    "        print(f\"Seat {seat} is already booked.\")\n",
    "    else:\n",
    "        booked_seats.append(seat)\n",
    "        print(f\"Seat {seat} has been booked.\")\n",
    "def cancel_seat(booked_seats, seat):\n",
    "    if seat in booked_seats:\n",
    "        booked_seats.remove(seat)\n",
    "        print(f\"Seat {seat} booking has been cancelled.\")\n",
    "    else:\n",
    "        print(f\"Seat {seat} is not currently booked.\")\n",
    "def available_seats(total_seats, booked_seats):\n",
    "    return [seat for seat in range(1, total_seats + 1) if seat not in booked_seats]\n",
    "total_seats = int(input(\"Enter total number of seats: \"))\n",
    "booked_input = input(\"Enter initially booked seats separated by space (e.g., 2 5 7): \")\n",
    "booked_seats = list(map(int, booked_input.strip().split()))\n",
    "book_seat_number = int(input(\"Enter the seat number you want to book: \"))\n",
    "cancel_seat_number = int(input(\"Enter the seat number you want to cancel: \"))\n",
    "book_seat(booked_seats, book_seat_number)\n",
    "cancel_seat(booked_seats, cancel_seat_number)\n",
    "print(\"Available seats:\", available_seats(total_seats, booked_seats))\n"
   ]
  }
 ],
 "metadata": {
  "kernelspec": {
   "display_name": "Python 3",
   "language": "python",
   "name": "python3"
  },
  "language_info": {
   "codemirror_mode": {
    "name": "ipython",
    "version": 3
   },
   "file_extension": ".py",
   "mimetype": "text/x-python",
   "name": "python",
   "nbconvert_exporter": "python",
   "pygments_lexer": "ipython3",
   "version": "3.11.0"
  }
 },
 "nbformat": 4,
 "nbformat_minor": 5
}
