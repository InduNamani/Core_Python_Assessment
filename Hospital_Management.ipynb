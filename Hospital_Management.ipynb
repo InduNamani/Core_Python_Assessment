{
 "cells": [
  {
   "cell_type": "code",
   "execution_count": 1,
   "id": "6b952eda",
   "metadata": {},
   "outputs": [
    {
     "ename": "ValueError",
     "evalue": "invalid literal for int() with base 10: ''",
     "output_type": "error",
     "traceback": [
      "\u001b[31m---------------------------------------------------------------------------\u001b[39m",
      "\u001b[31mValueError\u001b[39m                                Traceback (most recent call last)",
      "\u001b[36mCell\u001b[39m\u001b[36m \u001b[39m\u001b[32mIn[1]\u001b[39m\u001b[32m, line 12\u001b[39m\n\u001b[32m      9\u001b[39m     \u001b[38;5;28;01mreturn\u001b[39;00m result\n\u001b[32m     11\u001b[39m \u001b[38;5;66;03m# Input number of patients\u001b[39;00m\n\u001b[32m---> \u001b[39m\u001b[32m12\u001b[39m n = \u001b[38;5;28;43mint\u001b[39;49m\u001b[43m(\u001b[49m\u001b[38;5;28;43minput\u001b[39;49m\u001b[43m(\u001b[49m\u001b[33;43m\"\u001b[39;49m\u001b[33;43mEnter number of patients: \u001b[39;49m\u001b[33;43m\"\u001b[39;49m\u001b[43m)\u001b[49m\u001b[43m)\u001b[49m\n\u001b[32m     13\u001b[39m patients = []\n\u001b[32m     15\u001b[39m \u001b[38;5;66;03m# Input patient details\u001b[39;00m\n",
      "\u001b[31mValueError\u001b[39m: invalid literal for int() with base 10: ''"
     ]
    }
   ],
   "source": [
    "class Patient:\n",
    "    def __init__(self, name, age, disease):\n",
    "        self.name = name\n",
    "        self.age = age\n",
    "        self.disease = disease\n",
    "\n",
    "def search_patients(patients, disease):\n",
    "    result = [patient.name for patient in patients if patient.disease.lower() == disease.lower()]\n",
    "    return result\n",
    "\n",
    "# Input number of patients\n",
    "n = int(input(\"Enter number of patients: \"))\n",
    "patients = []\n",
    "\n",
    "# Input patient details\n",
    "for i in range(n):\n",
    "    print(f\"\\nEnter details for patient {i+1}:\")\n",
    "    name = input(\"Name: \").strip()\n",
    "    age = int(input(\"Age: \").strip())\n",
    "    disease = input(\"Disease: \").strip()\n",
    "    patients.append(Patient(name, age, disease))\n",
    "\n",
    "# Input disease to search\n",
    "search_disease = input(\"\\nEnter disease to search for: \").strip()\n",
    "\n",
    "# Perform search\n",
    "matched_patients = search_patients(patients, search_disease)\n",
    "\n",
    "# Display results\n",
    "if matched_patients:\n",
    "    print(f\"\\nPatients with {search_disease}: {matched_patients}\")\n",
    "else:\n",
    "    print(f\"\\nNo patients found with {search_disease}.\")\n",
    "\n"
   ]
  }
 ],
 "metadata": {
  "kernelspec": {
   "display_name": "Python 3",
   "language": "python",
   "name": "python3"
  },
  "language_info": {
   "codemirror_mode": {
    "name": "ipython",
    "version": 3
   },
   "file_extension": ".py",
   "mimetype": "text/x-python",
   "name": "python",
   "nbconvert_exporter": "python",
   "pygments_lexer": "ipython3",
   "version": "3.11.0"
  }
 },
 "nbformat": 4,
 "nbformat_minor": 5
}
