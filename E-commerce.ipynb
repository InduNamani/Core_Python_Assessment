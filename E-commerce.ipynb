{
 "cells": [
  {
   "cell_type": "code",
   "execution_count": null,
   "id": "ad957922",
   "metadata": {},
   "outputs": [],
   "source": [
    "def calculate_total(cart_items):\n",
    "    if not cart_items:\n",
    "        return \"The cart is empty.\"\n",
    "    total = sum(cart_items.values())\n",
    "    if len(cart_items) > 5:\n",
    "        total *= 0.9  \n",
    "    return f\"Total Price: {int(total)}\"\n",
    "cart_items = {}\n",
    "n = int(input(\"Enter number of items in the cart: \"))\n",
    "for i in range(n):\n",
    "    item = input(f\"Enter name of item {i+1}: \")\n",
    "    price = float(input(f\"Enter price of {item}: \"))\n",
    "    cart_items[item] = price\n",
    "print(calculate_total(cart_items))\n"
   ]
  }
 ],
 "metadata": {
  "language_info": {
   "name": "python"
  }
 },
 "nbformat": 4,
 "nbformat_minor": 5
}
