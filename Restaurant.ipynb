{
 "cells": [
  {
   "cell_type": "code",
   "execution_count": null,
   "id": "1d029f3e",
   "metadata": {},
   "outputs": [
    {
     "name": "stdout",
     "output_type": "stream",
     "text": [
      "pasta not found in the menu.\n",
      "Updated menu: ['Pizza', 'Burger', 'Pasta', 'Salad', 'biryani']\n",
      "Availability: Salad is available\n"
     ]
    }
   ],
   "source": [
    "def add_item(menu, item):\n",
    "    if item not in menu:\n",
    "        menu.append(item)\n",
    "    return menu\n",
    "def remove_item(menu, item):\n",
    "    if item in menu:\n",
    "        menu.remove(item)\n",
    "    else:\n",
    "        print(f\"{item} not found in the menu.\")\n",
    "    return menu\n",
    "def check_item(menu, item):\n",
    "    if item in menu:\n",
    "        return f\"{item} is available\"\n",
    "    else:\n",
    "        return f\"{item} is not available\"\n",
    "initial_menu = [\"Pizza\", \"Burger\", \"Pasta\", \"Salad\"]\n",
    "add_item_input = input(\"Enter an item to add: \")\n",
    "remove_item_input = input(\"Enter an item to remove: \")\n",
    "check_item_input = input(\"Enter an item to check availability: \")\n",
    "updated_menu = add_item(initial_menu, add_item_input)\n",
    "updated_menu = remove_item(updated_menu, remove_item_input)\n",
    "print(\"Updated menu:\", updated_menu)\n",
    "print(\"Availability:\", check_item(updated_menu, check_item_input))\n"
   ]
  },
  {
   "cell_type": "code",
   "execution_count": 5,
   "id": "efbfd675",
   "metadata": {},
   "outputs": [
    {
     "name": "stdout",
     "output_type": "stream",
     "text": [
      "the modified ['salad']\n",
      "Availability; biryani is not available\n"
     ]
    }
   ],
   "source": [
    "def add_item(l,a):\n",
    "    if (a not in l):\n",
    "        l.append(a)\n",
    "    return l\n",
    "def remove_item(l,r):\n",
    "    if(r not in l):\n",
    "        print(\"The item is not there\")\n",
    "    else:\n",
    "        l.remove(a)\n",
    "    return l\n",
    "def check(l,s):\n",
    "    if s not in l:\n",
    "        return f\"{s} is not available\"\n",
    "    else:\n",
    "        return f\"{s} is there\"\n",
    "    \n",
    "l=[]\n",
    "n=int(input(\"Enter no of dishes\"))\n",
    "for i in range (n+1):\n",
    "    item=input(\"enter the item names\")\n",
    "    l.append(item)\n",
    "a=input(\"enter the item names\")\n",
    "r=input(\"enter the item name to remove\")\n",
    "search=input(\"enter the item for search\")\n",
    "menu=add_item(l,a)\n",
    "menu=remove_item(menu,r)\n",
    "print(\"the modified\",menu)\n",
    "print(\"Availability;\",check(menu,search))"
   ]
  }
 ],
 "metadata": {
  "kernelspec": {
   "display_name": "Python 3",
   "language": "python",
   "name": "python3"
  },
  "language_info": {
   "codemirror_mode": {
    "name": "ipython",
    "version": 3
   },
   "file_extension": ".py",
   "mimetype": "text/x-python",
   "name": "python",
   "nbconvert_exporter": "python",
   "pygments_lexer": "ipython3",
   "version": "3.11.0"
  }
 },
 "nbformat": 4,
 "nbformat_minor": 5
}
