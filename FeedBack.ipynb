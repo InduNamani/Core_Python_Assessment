{
 "cells": [
  {
   "cell_type": "code",
   "execution_count": 1,
   "id": "0d5697a8",
   "metadata": {},
   "outputs": [
    {
     "name": "stdout",
     "output_type": "stream",
     "text": [
      "\n",
      "Positive Feedback: 83.33333333333334%\n"
     ]
    }
   ],
   "source": [
    "def positive_feedback_percentage(ratings):\n",
    "    if not ratings:\n",
    "        return 0.0  # Handle case with no ratings\n",
    "    positive_count = sum(1 for rating in ratings if rating >= 4)\n",
    "    percentage = (positive_count / len(ratings)) * 100\n",
    "    return percentage\n",
    "ratings_input = input(\"Enter ratings separated by spaces (e.g., 5 4 3 5 2 4 1 5): \")\n",
    "ratings = list(map(int, ratings_input.strip().split()))\n",
    "percentage = positive_feedback_percentage(ratings)\n",
    "print(f\"\\nPositive Feedback: {percentage}%\")\n"
   ]
  }
 ],
 "metadata": {
  "kernelspec": {
   "display_name": "Python 3",
   "language": "python",
   "name": "python3"
  },
  "language_info": {
   "codemirror_mode": {
    "name": "ipython",
    "version": 3
   },
   "file_extension": ".py",
   "mimetype": "text/x-python",
   "name": "python",
   "nbconvert_exporter": "python",
   "pygments_lexer": "ipython3",
   "version": "3.11.0"
  }
 },
 "nbformat": 4,
 "nbformat_minor": 5
}
